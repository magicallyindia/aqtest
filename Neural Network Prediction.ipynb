{
 "cells": [
  {
   "cell_type": "code",
   "execution_count": 18,
   "metadata": {
    "pycharm": {
     "is_executing": false
    }
   },
   "outputs": [],
   "source": [
    "import pickle\n",
    "import pandas as pd\n",
    "import numpy as np\n",
    "import tensorflow as tf\n",
    "from sklearn.metrics import explained_variance_score, \\\n",
    "    mean_absolute_error, \\\n",
    "    median_absolute_error\n",
    "from sklearn.model_selection import train_test_split\n",
    "#tf.keras.backend.set_floatx('float64')"
   ]
  },
  {
   "cell_type": "code",
   "execution_count": 19,
   "metadata": {
    "pycharm": {
     "is_executing": false
    },
    "scrolled": false
   },
   "outputs": [
    {
     "data": {
      "text/plain": "                     count       mean       std        min        25%  \\\ntemperatureMean      197.0  83.285072  4.785616  78.228333  79.299583   \ntemperatureMax       197.0  93.116650  5.210954  87.790000  88.890000   \ntemperatureMin       197.0  74.564873  4.465296  69.930000  70.990000   \ntemperatureMean_1    197.0  83.312329  4.771940  78.349167  79.347917   \ntemperatureMean_2    197.0  83.349818  4.761749  78.469167  79.352500   \ntemperatureMean_3    197.0  83.393234  4.756010  78.560417  79.374583   \ndewPoint_1           197.0  67.125939  4.704913  45.300000  65.470000   \ndewPoint_2           197.0  67.110203  4.718033  45.300000  65.470000   \ndewPoint_3           197.0  67.092538  4.732617  45.300000  65.470000   \nhumidity_1           197.0   0.622234  0.152667   0.230000   0.480000   \nhumidity_2           197.0   0.621371  0.152989   0.230000   0.480000   \nhumidity_3           197.0   0.620305  0.153520   0.230000   0.480000   \ntemperatureMax_1     197.0  93.153046  5.198585  87.910000  88.920000   \ntemperatureMax_2     197.0  93.202843  5.195089  88.030000  88.940000   \ntemperatureMax_3     197.0  93.259036  5.198720  88.140000  88.950000   \ntemperatureMin_1     197.0  74.582183  4.453832  70.060000  71.010000   \ntemperatureMin_2     197.0  74.603452  4.442115  70.170000  71.040000   \ntemperatureMin_3     197.0  74.635381  4.432682  70.230000  71.060000   \nprecipProbability_1  197.0   0.007665  0.026081   0.000000   0.000000   \nprecipProbability_2  197.0   0.008629  0.029131   0.000000   0.000000   \nprecipProbability_3  197.0   0.009289  0.030380   0.000000   0.000000   \n\n                           50%       75%         max  \ntemperatureMean      80.155417  88.09625   92.845833  \ntemperatureMax       89.740000  98.28000  106.580000  \ntemperatureMin       71.820000  78.11000   82.950000  \ntemperatureMean_1    80.155833  88.09625   92.845833  \ntemperatureMean_2    80.157917  88.09625   92.845833  \ntemperatureMean_3    80.269583  88.09625   92.845833  \ndewPoint_1           68.660000  70.53000   71.080000  \ndewPoint_2           68.660000  70.53000   71.080000  \ndewPoint_3           68.660000  70.53000   71.080000  \nhumidity_1            0.670000   0.76000    0.790000  \nhumidity_2            0.670000   0.76000    0.790000  \nhumidity_3            0.670000   0.76000    0.790000  \ntemperatureMax_1     89.740000  98.28000  106.580000  \ntemperatureMax_2     89.740000  98.28000  106.580000  \ntemperatureMax_3     89.830000  98.46000  106.580000  \ntemperatureMin_1     71.830000  78.11000   82.950000  \ntemperatureMin_2     71.830000  78.11000   82.950000  \ntemperatureMin_3     71.840000  78.11000   82.950000  \nprecipProbability_1   0.000000   0.00000    0.160000  \nprecipProbability_2   0.000000   0.00000    0.190000  \nprecipProbability_3   0.000000   0.00000    0.190000  ",
      "text/html": "<div>\n<style scoped>\n    .dataframe tbody tr th:only-of-type {\n        vertical-align: middle;\n    }\n\n    .dataframe tbody tr th {\n        vertical-align: top;\n    }\n\n    .dataframe thead th {\n        text-align: right;\n    }\n</style>\n<table border=\"1\" class=\"dataframe\">\n  <thead>\n    <tr style=\"text-align: right;\">\n      <th></th>\n      <th>count</th>\n      <th>mean</th>\n      <th>std</th>\n      <th>min</th>\n      <th>25%</th>\n      <th>50%</th>\n      <th>75%</th>\n      <th>max</th>\n    </tr>\n  </thead>\n  <tbody>\n    <tr>\n      <th>temperatureMean</th>\n      <td>197.0</td>\n      <td>83.285072</td>\n      <td>4.785616</td>\n      <td>78.228333</td>\n      <td>79.299583</td>\n      <td>80.155417</td>\n      <td>88.09625</td>\n      <td>92.845833</td>\n    </tr>\n    <tr>\n      <th>temperatureMax</th>\n      <td>197.0</td>\n      <td>93.116650</td>\n      <td>5.210954</td>\n      <td>87.790000</td>\n      <td>88.890000</td>\n      <td>89.740000</td>\n      <td>98.28000</td>\n      <td>106.580000</td>\n    </tr>\n    <tr>\n      <th>temperatureMin</th>\n      <td>197.0</td>\n      <td>74.564873</td>\n      <td>4.465296</td>\n      <td>69.930000</td>\n      <td>70.990000</td>\n      <td>71.820000</td>\n      <td>78.11000</td>\n      <td>82.950000</td>\n    </tr>\n    <tr>\n      <th>temperatureMean_1</th>\n      <td>197.0</td>\n      <td>83.312329</td>\n      <td>4.771940</td>\n      <td>78.349167</td>\n      <td>79.347917</td>\n      <td>80.155833</td>\n      <td>88.09625</td>\n      <td>92.845833</td>\n    </tr>\n    <tr>\n      <th>temperatureMean_2</th>\n      <td>197.0</td>\n      <td>83.349818</td>\n      <td>4.761749</td>\n      <td>78.469167</td>\n      <td>79.352500</td>\n      <td>80.157917</td>\n      <td>88.09625</td>\n      <td>92.845833</td>\n    </tr>\n    <tr>\n      <th>temperatureMean_3</th>\n      <td>197.0</td>\n      <td>83.393234</td>\n      <td>4.756010</td>\n      <td>78.560417</td>\n      <td>79.374583</td>\n      <td>80.269583</td>\n      <td>88.09625</td>\n      <td>92.845833</td>\n    </tr>\n    <tr>\n      <th>dewPoint_1</th>\n      <td>197.0</td>\n      <td>67.125939</td>\n      <td>4.704913</td>\n      <td>45.300000</td>\n      <td>65.470000</td>\n      <td>68.660000</td>\n      <td>70.53000</td>\n      <td>71.080000</td>\n    </tr>\n    <tr>\n      <th>dewPoint_2</th>\n      <td>197.0</td>\n      <td>67.110203</td>\n      <td>4.718033</td>\n      <td>45.300000</td>\n      <td>65.470000</td>\n      <td>68.660000</td>\n      <td>70.53000</td>\n      <td>71.080000</td>\n    </tr>\n    <tr>\n      <th>dewPoint_3</th>\n      <td>197.0</td>\n      <td>67.092538</td>\n      <td>4.732617</td>\n      <td>45.300000</td>\n      <td>65.470000</td>\n      <td>68.660000</td>\n      <td>70.53000</td>\n      <td>71.080000</td>\n    </tr>\n    <tr>\n      <th>humidity_1</th>\n      <td>197.0</td>\n      <td>0.622234</td>\n      <td>0.152667</td>\n      <td>0.230000</td>\n      <td>0.480000</td>\n      <td>0.670000</td>\n      <td>0.76000</td>\n      <td>0.790000</td>\n    </tr>\n    <tr>\n      <th>humidity_2</th>\n      <td>197.0</td>\n      <td>0.621371</td>\n      <td>0.152989</td>\n      <td>0.230000</td>\n      <td>0.480000</td>\n      <td>0.670000</td>\n      <td>0.76000</td>\n      <td>0.790000</td>\n    </tr>\n    <tr>\n      <th>humidity_3</th>\n      <td>197.0</td>\n      <td>0.620305</td>\n      <td>0.153520</td>\n      <td>0.230000</td>\n      <td>0.480000</td>\n      <td>0.670000</td>\n      <td>0.76000</td>\n      <td>0.790000</td>\n    </tr>\n    <tr>\n      <th>temperatureMax_1</th>\n      <td>197.0</td>\n      <td>93.153046</td>\n      <td>5.198585</td>\n      <td>87.910000</td>\n      <td>88.920000</td>\n      <td>89.740000</td>\n      <td>98.28000</td>\n      <td>106.580000</td>\n    </tr>\n    <tr>\n      <th>temperatureMax_2</th>\n      <td>197.0</td>\n      <td>93.202843</td>\n      <td>5.195089</td>\n      <td>88.030000</td>\n      <td>88.940000</td>\n      <td>89.740000</td>\n      <td>98.28000</td>\n      <td>106.580000</td>\n    </tr>\n    <tr>\n      <th>temperatureMax_3</th>\n      <td>197.0</td>\n      <td>93.259036</td>\n      <td>5.198720</td>\n      <td>88.140000</td>\n      <td>88.950000</td>\n      <td>89.830000</td>\n      <td>98.46000</td>\n      <td>106.580000</td>\n    </tr>\n    <tr>\n      <th>temperatureMin_1</th>\n      <td>197.0</td>\n      <td>74.582183</td>\n      <td>4.453832</td>\n      <td>70.060000</td>\n      <td>71.010000</td>\n      <td>71.830000</td>\n      <td>78.11000</td>\n      <td>82.950000</td>\n    </tr>\n    <tr>\n      <th>temperatureMin_2</th>\n      <td>197.0</td>\n      <td>74.603452</td>\n      <td>4.442115</td>\n      <td>70.170000</td>\n      <td>71.040000</td>\n      <td>71.830000</td>\n      <td>78.11000</td>\n      <td>82.950000</td>\n    </tr>\n    <tr>\n      <th>temperatureMin_3</th>\n      <td>197.0</td>\n      <td>74.635381</td>\n      <td>4.432682</td>\n      <td>70.230000</td>\n      <td>71.060000</td>\n      <td>71.840000</td>\n      <td>78.11000</td>\n      <td>82.950000</td>\n    </tr>\n    <tr>\n      <th>precipProbability_1</th>\n      <td>197.0</td>\n      <td>0.007665</td>\n      <td>0.026081</td>\n      <td>0.000000</td>\n      <td>0.000000</td>\n      <td>0.000000</td>\n      <td>0.00000</td>\n      <td>0.160000</td>\n    </tr>\n    <tr>\n      <th>precipProbability_2</th>\n      <td>197.0</td>\n      <td>0.008629</td>\n      <td>0.029131</td>\n      <td>0.000000</td>\n      <td>0.000000</td>\n      <td>0.000000</td>\n      <td>0.00000</td>\n      <td>0.190000</td>\n    </tr>\n    <tr>\n      <th>precipProbability_3</th>\n      <td>197.0</td>\n      <td>0.009289</td>\n      <td>0.030380</td>\n      <td>0.000000</td>\n      <td>0.000000</td>\n      <td>0.000000</td>\n      <td>0.00000</td>\n      <td>0.190000</td>\n    </tr>\n  </tbody>\n</table>\n</div>"
     },
     "metadata": {},
     "output_type": "execute_result",
     "execution_count": 19
    }
   ],
   "source": [
    "# read the csv data into a pandas dataframe and set the date as the index\n",
    "# df = pd.read_csv('end-part2_df.csv').set_index('date')\n",
    "with open('end-part1_df.pkl', 'rb') as fp:\n",
    "    df = pickle.load(fp)\n",
    "\n",
    "# execute the describe() function and transpose the output so that it doesn't overflow the width of the screen\n",
    "df.describe().T"
   ]
  },
  {
   "cell_type": "code",
   "execution_count": 20,
   "metadata": {
    "pycharm": {
     "is_executing": false
    }
   },
   "outputs": [],
   "source": [
    "df.index = df.index.values.astype(float)"
   ]
  },
  {
   "cell_type": "code",
   "execution_count": 21,
   "metadata": {
    "pycharm": {
     "is_executing": false
    }
   },
   "outputs": [
    {
     "name": "stdout",
     "text": [
      "<class 'pandas.core.frame.DataFrame'>\n",
      "Float64Index: 197 entries, 1.58652371064889e+18 to 1.60345811064889e+18\n",
      "Data columns (total 21 columns):\n",
      "temperatureMean        197 non-null float64\n",
      "temperatureMax         197 non-null float64\n",
      "temperatureMin         197 non-null float64\n",
      "temperatureMean_1      197 non-null float64\n",
      "temperatureMean_2      197 non-null float64\n",
      "temperatureMean_3      197 non-null float64\n",
      "dewPoint_1             197 non-null float64\n",
      "dewPoint_2             197 non-null float64\n",
      "dewPoint_3             197 non-null float64\n",
      "humidity_1             197 non-null float64\n",
      "humidity_2             197 non-null float64\n",
      "humidity_3             197 non-null float64\n",
      "temperatureMax_1       197 non-null float64\n",
      "temperatureMax_2       197 non-null float64\n",
      "temperatureMax_3       197 non-null float64\n",
      "temperatureMin_1       197 non-null float64\n",
      "temperatureMin_2       197 non-null float64\n",
      "temperatureMin_3       197 non-null float64\n",
      "precipProbability_1    197 non-null float64\n",
      "precipProbability_2    197 non-null float64\n",
      "precipProbability_3    197 non-null float64\n",
      "dtypes: float64(21)\n",
      "memory usage: 33.9 KB\n"
     ],
     "output_type": "stream"
    }
   ],
   "source": [
    "# execute the info() function\n",
    "df.info()"
   ]
  },
  {
   "cell_type": "code",
   "execution_count": 22,
   "metadata": {
    "pycharm": {
     "is_executing": false
    }
   },
   "outputs": [],
   "source": [
    "# First drop the maxtempm and mintempm from the dataframe\n",
    "#print(df)\n",
    "df = df.drop(['temperatureMin', 'temperatureMax'], axis=1)\n",
    "\n",
    "# X will be a pandas dataframe of all columns except meantempm\n",
    "X = df[[col for col in df.columns if col != 'temperatureMean']]\n",
    "\n",
    "# y will be a pandas series of the meantempm\n",
    "y = df['temperatureMean']"
   ]
  },
  {
   "cell_type": "code",
   "execution_count": 23,
   "metadata": {
    "pycharm": {
     "is_executing": false
    }
   },
   "outputs": [],
   "source": [
    "# split data into training set and a temporary set\n",
    "X_train, X_tmp, y_train, y_tmp = train_test_split(X, y, test_size=0.2, random_state=23)"
   ]
  },
  {
   "cell_type": "code",
   "execution_count": 24,
   "metadata": {
    "pycharm": {
     "is_executing": false
    }
   },
   "outputs": [
    {
     "name": "stdout",
     "text": [
      "Training instances   157, Training features   18\n",
      "Validation instances 20, Validation features 18\n",
      "Testing instances    20, Testing features    18\n"
     ],
     "output_type": "stream"
    }
   ],
   "source": [
    "# split the remaining 20% of data evenly\n",
    "X_test, X_val, y_test, y_val = train_test_split(X_tmp, y_tmp, test_size=0.5, random_state=23)\n",
    "\n",
    "X_train.shape, X_test.shape, X_val.shape\n",
    "print('Training instances   {}, Training features   {}'.format(X_train.shape[0], X_train.shape[1]))\n",
    "print('Validation instances {}, Validation features {}'.format(X_val.shape[0], X_val.shape[1]))\n",
    "print('Testing instances    {}, Testing features    {}'.format(X_test.shape[0], X_test.shape[1]))"
   ]
  },
  {
   "cell_type": "code",
   "execution_count": 25,
   "metadata": {
    "pycharm": {
     "is_executing": false
    }
   },
   "outputs": [],
   "source": [
    "feature_cols = [tf.feature_column.numeric_column(col) for col in X.columns]"
   ]
  },
  {
   "cell_type": "code",
   "execution_count": 26,
   "metadata": {
    "pycharm": {
     "is_executing": false
    }
   },
   "outputs": [],
   "source": [
    "regressor = tf.estimator.DNNRegressor(feature_columns=feature_cols,\n",
    "                                      hidden_units=[50, 50],\n",
    "                                      model_dir='~/Projects/machine-learning-predict-weather/tf_models/tf_wx_model')"
   ]
  },
  {
   "cell_type": "code",
   "execution_count": 27,
   "metadata": {
    "pycharm": {
     "is_executing": false
    }
   },
   "outputs": [],
   "source": [
    "def wx_input_fn(X, y=None, num_epochs=None, shuffle=True, batch_size=400):\n",
    "    return tf.compat.v1.estimator.inputs.pandas_input_fn(\n",
    "        x=X, y=y, num_epochs=num_epochs, shuffle=shuffle, batch_size=batch_size\n",
    "    )"
   ]
  },
  {
   "cell_type": "code",
   "execution_count": 34,
   "metadata": {
    "pycharm": {
     "is_executing": false
    },
    "scrolled": true
   },
   "outputs": [
    {
     "name": "stderr",
     "text": [
      "W0417 21:29:10.211975 101360 base_layer_v1.py:1808] Layer dnn is casting an input tensor from dtype float64 to the layer's dtype of float32, which is new behavior in TensorFlow 2.  The layer has dtype float32 because it's dtype defaults to floatx.\n",
      "\n",
      "If you intended to run this layer in float32, you can safely ignore this warning. If in doubt, this warning is likely only an issue if you are porting a TensorFlow 1.X model to TensorFlow 2.\n",
      "\n",
      "To change all layers to have dtype float64 by default, call `tf.keras.backend.set_floatx('float64')`. To change just this layer, pass dtype='float64' to the layer constructor. If you are the author of this layer, you can disable autocasting by passing autocast=False to the base Layer constructor.\n",
      "\n",
      "W0417 21:29:15.703247 101360 base_layer_v1.py:1808] Layer dnn is casting an input tensor from dtype float64 to the layer's dtype of float32, which is new behavior in TensorFlow 2.  The layer has dtype float32 because it's dtype defaults to floatx.\n",
      "\n",
      "If you intended to run this layer in float32, you can safely ignore this warning. If in doubt, this warning is likely only an issue if you are porting a TensorFlow 1.X model to TensorFlow 2.\n",
      "\n",
      "To change all layers to have dtype float64 by default, call `tf.keras.backend.set_floatx('float64')`. To change just this layer, pass dtype='float64' to the layer constructor. If you are the author of this layer, you can disable autocasting by passing autocast=False to the base Layer constructor.\n",
      "\n",
      "W0417 21:29:16.392369 101360 base_layer_v1.py:1808] Layer dnn is casting an input tensor from dtype float64 to the layer's dtype of float32, which is new behavior in TensorFlow 2.  The layer has dtype float32 because it's dtype defaults to floatx.\n",
      "\n",
      "If you intended to run this layer in float32, you can safely ignore this warning. If in doubt, this warning is likely only an issue if you are porting a TensorFlow 1.X model to TensorFlow 2.\n",
      "\n",
      "To change all layers to have dtype float64 by default, call `tf.keras.backend.set_floatx('float64')`. To change just this layer, pass dtype='float64' to the layer constructor. If you are the author of this layer, you can disable autocasting by passing autocast=False to the base Layer constructor.\n",
      "\n",
      "W0417 21:29:21.513385 101360 base_layer_v1.py:1808] Layer dnn is casting an input tensor from dtype float64 to the layer's dtype of float32, which is new behavior in TensorFlow 2.  The layer has dtype float32 because it's dtype defaults to floatx.\n",
      "\n",
      "If you intended to run this layer in float32, you can safely ignore this warning. If in doubt, this warning is likely only an issue if you are porting a TensorFlow 1.X model to TensorFlow 2.\n",
      "\n",
      "To change all layers to have dtype float64 by default, call `tf.keras.backend.set_floatx('float64')`. To change just this layer, pass dtype='float64' to the layer constructor. If you are the author of this layer, you can disable autocasting by passing autocast=False to the base Layer constructor.\n",
      "\n",
      "W0417 21:29:22.192580 101360 base_layer_v1.py:1808] Layer dnn is casting an input tensor from dtype float64 to the layer's dtype of float32, which is new behavior in TensorFlow 2.  The layer has dtype float32 because it's dtype defaults to floatx.\n",
      "\n",
      "If you intended to run this layer in float32, you can safely ignore this warning. If in doubt, this warning is likely only an issue if you are porting a TensorFlow 1.X model to TensorFlow 2.\n",
      "\n",
      "To change all layers to have dtype float64 by default, call `tf.keras.backend.set_floatx('float64')`. To change just this layer, pass dtype='float64' to the layer constructor. If you are the author of this layer, you can disable autocasting by passing autocast=False to the base Layer constructor.\n",
      "\n",
      "W0417 21:29:27.987326 101360 base_layer_v1.py:1808] Layer dnn is casting an input tensor from dtype float64 to the layer's dtype of float32, which is new behavior in TensorFlow 2.  The layer has dtype float32 because it's dtype defaults to floatx.\n",
      "\n",
      "If you intended to run this layer in float32, you can safely ignore this warning. If in doubt, this warning is likely only an issue if you are porting a TensorFlow 1.X model to TensorFlow 2.\n",
      "\n",
      "To change all layers to have dtype float64 by default, call `tf.keras.backend.set_floatx('float64')`. To change just this layer, pass dtype='float64' to the layer constructor. If you are the author of this layer, you can disable autocasting by passing autocast=False to the base Layer constructor.\n",
      "\n",
      "W0417 21:29:29.111225 101360 base_layer_v1.py:1808] Layer dnn is casting an input tensor from dtype float64 to the layer's dtype of float32, which is new behavior in TensorFlow 2.  The layer has dtype float32 because it's dtype defaults to floatx.\n",
      "\n",
      "If you intended to run this layer in float32, you can safely ignore this warning. If in doubt, this warning is likely only an issue if you are porting a TensorFlow 1.X model to TensorFlow 2.\n",
      "\n",
      "To change all layers to have dtype float64 by default, call `tf.keras.backend.set_floatx('float64')`. To change just this layer, pass dtype='float64' to the layer constructor. If you are the author of this layer, you can disable autocasting by passing autocast=False to the base Layer constructor.\n",
      "\n",
      "W0417 21:29:35.814572 101360 base_layer_v1.py:1808] Layer dnn is casting an input tensor from dtype float64 to the layer's dtype of float32, which is new behavior in TensorFlow 2.  The layer has dtype float32 because it's dtype defaults to floatx.\n",
      "\n",
      "If you intended to run this layer in float32, you can safely ignore this warning. If in doubt, this warning is likely only an issue if you are porting a TensorFlow 1.X model to TensorFlow 2.\n",
      "\n",
      "To change all layers to have dtype float64 by default, call `tf.keras.backend.set_floatx('float64')`. To change just this layer, pass dtype='float64' to the layer constructor. If you are the author of this layer, you can disable autocasting by passing autocast=False to the base Layer constructor.\n",
      "\n",
      "W0417 21:29:36.581805 101360 base_layer_v1.py:1808] Layer dnn is casting an input tensor from dtype float64 to the layer's dtype of float32, which is new behavior in TensorFlow 2.  The layer has dtype float32 because it's dtype defaults to floatx.\n",
      "\n",
      "If you intended to run this layer in float32, you can safely ignore this warning. If in doubt, this warning is likely only an issue if you are porting a TensorFlow 1.X model to TensorFlow 2.\n",
      "\n",
      "To change all layers to have dtype float64 by default, call `tf.keras.backend.set_floatx('float64')`. To change just this layer, pass dtype='float64' to the layer constructor. If you are the author of this layer, you can disable autocasting by passing autocast=False to the base Layer constructor.\n",
      "\n",
      "W0417 21:29:41.294070 101360 base_layer_v1.py:1808] Layer dnn is casting an input tensor from dtype float64 to the layer's dtype of float32, which is new behavior in TensorFlow 2.  The layer has dtype float32 because it's dtype defaults to floatx.\n",
      "\n",
      "If you intended to run this layer in float32, you can safely ignore this warning. If in doubt, this warning is likely only an issue if you are porting a TensorFlow 1.X model to TensorFlow 2.\n",
      "\n",
      "To change all layers to have dtype float64 by default, call `tf.keras.backend.set_floatx('float64')`. To change just this layer, pass dtype='float64' to the layer constructor. If you are the author of this layer, you can disable autocasting by passing autocast=False to the base Layer constructor.\n",
      "\n",
      "W0417 21:29:41.995203 101360 base_layer_v1.py:1808] Layer dnn is casting an input tensor from dtype float64 to the layer's dtype of float32, which is new behavior in TensorFlow 2.  The layer has dtype float32 because it's dtype defaults to floatx.\n",
      "\n",
      "If you intended to run this layer in float32, you can safely ignore this warning. If in doubt, this warning is likely only an issue if you are porting a TensorFlow 1.X model to TensorFlow 2.\n",
      "\n",
      "To change all layers to have dtype float64 by default, call `tf.keras.backend.set_floatx('float64')`. To change just this layer, pass dtype='float64' to the layer constructor. If you are the author of this layer, you can disable autocasting by passing autocast=False to the base Layer constructor.\n",
      "\n",
      "W0417 21:29:47.349151 101360 base_layer_v1.py:1808] Layer dnn is casting an input tensor from dtype float64 to the layer's dtype of float32, which is new behavior in TensorFlow 2.  The layer has dtype float32 because it's dtype defaults to floatx.\n",
      "\n",
      "If you intended to run this layer in float32, you can safely ignore this warning. If in doubt, this warning is likely only an issue if you are porting a TensorFlow 1.X model to TensorFlow 2.\n",
      "\n",
      "To change all layers to have dtype float64 by default, call `tf.keras.backend.set_floatx('float64')`. To change just this layer, pass dtype='float64' to the layer constructor. If you are the author of this layer, you can disable autocasting by passing autocast=False to the base Layer constructor.\n",
      "\n",
      "W0417 21:29:49.045263 101360 base_layer_v1.py:1808] Layer dnn is casting an input tensor from dtype float64 to the layer's dtype of float32, which is new behavior in TensorFlow 2.  The layer has dtype float32 because it's dtype defaults to floatx.\n",
      "\n",
      "If you intended to run this layer in float32, you can safely ignore this warning. If in doubt, this warning is likely only an issue if you are porting a TensorFlow 1.X model to TensorFlow 2.\n",
      "\n",
      "To change all layers to have dtype float64 by default, call `tf.keras.backend.set_floatx('float64')`. To change just this layer, pass dtype='float64' to the layer constructor. If you are the author of this layer, you can disable autocasting by passing autocast=False to the base Layer constructor.\n",
      "\n",
      "W0417 21:29:55.149936 101360 base_layer_v1.py:1808] Layer dnn is casting an input tensor from dtype float64 to the layer's dtype of float32, which is new behavior in TensorFlow 2.  The layer has dtype float32 because it's dtype defaults to floatx.\n",
      "\n",
      "If you intended to run this layer in float32, you can safely ignore this warning. If in doubt, this warning is likely only an issue if you are porting a TensorFlow 1.X model to TensorFlow 2.\n",
      "\n",
      "To change all layers to have dtype float64 by default, call `tf.keras.backend.set_floatx('float64')`. To change just this layer, pass dtype='float64' to the layer constructor. If you are the author of this layer, you can disable autocasting by passing autocast=False to the base Layer constructor.\n",
      "\n",
      "W0417 21:29:55.847524 101360 base_layer_v1.py:1808] Layer dnn is casting an input tensor from dtype float64 to the layer's dtype of float32, which is new behavior in TensorFlow 2.  The layer has dtype float32 because it's dtype defaults to floatx.\n",
      "\n",
      "If you intended to run this layer in float32, you can safely ignore this warning. If in doubt, this warning is likely only an issue if you are porting a TensorFlow 1.X model to TensorFlow 2.\n",
      "\n",
      "To change all layers to have dtype float64 by default, call `tf.keras.backend.set_floatx('float64')`. To change just this layer, pass dtype='float64' to the layer constructor. If you are the author of this layer, you can disable autocasting by passing autocast=False to the base Layer constructor.\n",
      "\n",
      "W0417 21:30:02.226734 101360 base_layer_v1.py:1808] Layer dnn is casting an input tensor from dtype float64 to the layer's dtype of float32, which is new behavior in TensorFlow 2.  The layer has dtype float32 because it's dtype defaults to floatx.\n",
      "\n",
      "If you intended to run this layer in float32, you can safely ignore this warning. If in doubt, this warning is likely only an issue if you are porting a TensorFlow 1.X model to TensorFlow 2.\n",
      "\n",
      "To change all layers to have dtype float64 by default, call `tf.keras.backend.set_floatx('float64')`. To change just this layer, pass dtype='float64' to the layer constructor. If you are the author of this layer, you can disable autocasting by passing autocast=False to the base Layer constructor.\n",
      "\n",
      "W0417 21:30:03.585998 101360 base_layer_v1.py:1808] Layer dnn is casting an input tensor from dtype float64 to the layer's dtype of float32, which is new behavior in TensorFlow 2.  The layer has dtype float32 because it's dtype defaults to floatx.\n",
      "\n",
      "If you intended to run this layer in float32, you can safely ignore this warning. If in doubt, this warning is likely only an issue if you are porting a TensorFlow 1.X model to TensorFlow 2.\n",
      "\n",
      "To change all layers to have dtype float64 by default, call `tf.keras.backend.set_floatx('float64')`. To change just this layer, pass dtype='float64' to the layer constructor. If you are the author of this layer, you can disable autocasting by passing autocast=False to the base Layer constructor.\n",
      "\n",
      "W0417 21:30:09.771588 101360 base_layer_v1.py:1808] Layer dnn is casting an input tensor from dtype float64 to the layer's dtype of float32, which is new behavior in TensorFlow 2.  The layer has dtype float32 because it's dtype defaults to floatx.\n",
      "\n",
      "If you intended to run this layer in float32, you can safely ignore this warning. If in doubt, this warning is likely only an issue if you are porting a TensorFlow 1.X model to TensorFlow 2.\n",
      "\n",
      "To change all layers to have dtype float64 by default, call `tf.keras.backend.set_floatx('float64')`. To change just this layer, pass dtype='float64' to the layer constructor. If you are the author of this layer, you can disable autocasting by passing autocast=False to the base Layer constructor.\n",
      "\n",
      "W0417 21:30:10.447700 101360 base_layer_v1.py:1808] Layer dnn is casting an input tensor from dtype float64 to the layer's dtype of float32, which is new behavior in TensorFlow 2.  The layer has dtype float32 because it's dtype defaults to floatx.\n",
      "\n",
      "If you intended to run this layer in float32, you can safely ignore this warning. If in doubt, this warning is likely only an issue if you are porting a TensorFlow 1.X model to TensorFlow 2.\n",
      "\n",
      "To change all layers to have dtype float64 by default, call `tf.keras.backend.set_floatx('float64')`. To change just this layer, pass dtype='float64' to the layer constructor. If you are the author of this layer, you can disable autocasting by passing autocast=False to the base Layer constructor.\n",
      "\n",
      "W0417 21:30:16.815125 101360 base_layer_v1.py:1808] Layer dnn is casting an input tensor from dtype float64 to the layer's dtype of float32, which is new behavior in TensorFlow 2.  The layer has dtype float32 because it's dtype defaults to floatx.\n",
      "\n",
      "If you intended to run this layer in float32, you can safely ignore this warning. If in doubt, this warning is likely only an issue if you are porting a TensorFlow 1.X model to TensorFlow 2.\n",
      "\n",
      "To change all layers to have dtype float64 by default, call `tf.keras.backend.set_floatx('float64')`. To change just this layer, pass dtype='float64' to the layer constructor. If you are the author of this layer, you can disable autocasting by passing autocast=False to the base Layer constructor.\n",
      "\n"
     ],
     "output_type": "stream"
    },
    {
     "name": "stdout",
     "text": [
      "{'average_loss': 1.0529233, 'label/mean': 83.93743, 'loss': 1.0529233, 'prediction/mean': 84.144264, 'global_step': 152400}\n",
      "{'average_loss': 1.0530407, 'label/mean': 83.93743, 'loss': 1.0530407, 'prediction/mean': 84.14494, 'global_step': 152800}\n",
      "{'average_loss': 1.0528708, 'label/mean': 83.93743, 'loss': 1.0528708, 'prediction/mean': 84.14497, 'global_step': 153200}\n",
      "{'average_loss': 1.0523304, 'label/mean': 83.93743, 'loss': 1.0523304, 'prediction/mean': 84.14408, 'global_step': 153600}\n",
      "{'average_loss': 1.0528333, 'label/mean': 83.93743, 'loss': 1.0528333, 'prediction/mean': 84.1456, 'global_step': 154000}\n",
      "{'average_loss': 1.0519695, 'label/mean': 83.93743, 'loss': 1.0519695, 'prediction/mean': 84.14397, 'global_step': 154400}\n",
      "{'average_loss': 1.0520322, 'label/mean': 83.93743, 'loss': 1.0520322, 'prediction/mean': 84.14457, 'global_step': 154800}\n",
      "{'average_loss': 1.0521231, 'label/mean': 83.93743, 'loss': 1.0521231, 'prediction/mean': 84.14518, 'global_step': 155200}\n",
      "{'average_loss': 1.0521799, 'label/mean': 83.93743, 'loss': 1.0521799, 'prediction/mean': 84.14566, 'global_step': 155600}\n",
      "{'average_loss': 1.052038, 'label/mean': 83.93743, 'loss': 1.052038, 'prediction/mean': 84.14573, 'global_step': 156000}\n"
     ],
     "output_type": "stream"
    }
   ],
   "source": [
    "evaluations = []\n",
    "STEPS = 400\n",
    "for i in range(10):\n",
    "    regressor.train(input_fn=wx_input_fn(X_train, y=y_train), steps=STEPS)\n",
    "    t = regressor.evaluate(input_fn=wx_input_fn(X_val,\n",
    "                                                           y_val,num_epochs=1,\n",
    "                                                               shuffle=False))\n",
    "    print(t)\n",
    "    evaluations.append(t)\n",
    "    #print(evaluations)"
   ]
  },
  {
   "cell_type": "code",
   "execution_count": 29,
   "metadata": {
    "pycharm": {
     "is_executing": false
    }
   },
   "outputs": [
    {
     "data": {
      "text/plain": "{'average_loss': 1.0548695,\n 'label/mean': 83.93743,\n 'loss': 1.0548695,\n 'prediction/mean': 84.14476,\n 'global_step': 148400}"
     },
     "metadata": {},
     "output_type": "execute_result",
     "execution_count": 29
    }
   ],
   "source": [
    "evaluations[0]"
   ]
  },
  {
   "cell_type": "code",
   "execution_count": 30,
   "metadata": {
    "pycharm": {
     "is_executing": false
    }
   },
   "outputs": [
    {
     "data": {
      "text/plain": "{'average_loss': 1.0534436,\n 'label/mean': 83.93743,\n 'loss': 1.0534436,\n 'prediction/mean': 84.145065,\n 'global_step': 152000}"
     },
     "metadata": {},
     "output_type": "execute_result",
     "execution_count": 30
    }
   ],
   "source": [
    "evaluations[-1]"
   ]
  },
  {
   "cell_type": "code",
   "execution_count": 36,
   "metadata": {
    "pycharm": {
     "is_executing": false
    }
   },
   "outputs": [
    {
     "data": {
      "text/plain": "Text(0, 0.5, 'Loss (SSE)')"
     },
     "metadata": {},
     "output_type": "execute_result",
     "execution_count": 36
    },
    {
     "data": {
      "text/plain": "<Figure size 1008x720 with 1 Axes>",
      "image/png": "[encoded data removed]"
     },
     "metadata": {
      "needs_background": "light"
     },
     "output_type": "display_data"
    }
   ],
   "source": [
    "import matplotlib.pyplot as plt\n",
    "%matplotlib inline\n",
    "\n",
    "loss_values = [ev['loss'] for ev in evaluations]\n",
    "training_steps = [ev['global_step'] for ev in evaluations]\n",
    "\n",
    "fig, ax = plt.subplots(figsize=(14, 10))\n",
    "ax.scatter(x=training_steps, y=loss_values)\n",
    "ax.set_xlabel('Training steps (Epochs = steps / 2)')\n",
    "ax.set_ylabel('Loss (SSE)')"
   ]
  },
  {
   "cell_type": "code",
   "execution_count": 37,
   "metadata": {
    "pycharm": {
     "is_executing": false
    }
   },
   "outputs": [
    {
     "name": "stderr",
     "text": [
      "W0417 21:57:06.840577 101360 base_layer_v1.py:1808] Layer dnn is casting an input tensor from dtype float64 to the layer's dtype of float32, which is new behavior in TensorFlow 2.  The layer has dtype float32 because it's dtype defaults to floatx.\n",
      "\n",
      "If you intended to run this layer in float32, you can safely ignore this warning. If in doubt, this warning is likely only an issue if you are porting a TensorFlow 1.X model to TensorFlow 2.\n",
      "\n",
      "To change all layers to have dtype float64 by default, call `tf.keras.backend.set_floatx('float64')`. To change just this layer, pass dtype='float64' to the layer constructor. If you are the author of this layer, you can disable autocasting by passing autocast=False to the base Layer constructor.\n",
      "\n"
     ],
     "output_type": "stream"
    },
    {
     "name": "stdout",
     "text": [
      "[79.95547  86.70685  78.65669  84.941864 79.99644  79.98505  92.30533\n",
      " 79.85306  79.7074   91.40236  78.49922  81.99409  89.108604 80.141235\n",
      " 79.9996   85.60927  90.08443  84.063934 78.40161  78.59789 ]\n",
      "The Explained Variance: 0.99\n",
      "The Mean Absolute Error: 0.32 degrees Celcius\n",
      "The Median Absolute Error: 0.25 degrees Celcius\n"
     ],
     "output_type": "stream"
    }
   ],
   "source": [
    "pred = regressor.predict(input_fn=wx_input_fn(X_test,\n",
    "                                              num_epochs=1,\n",
    "                                              shuffle=False))\n",
    "predictions = np.array([p['predictions'][0] for p in pred])\n",
    "print(predictions)\n",
    "\n",
    "print('The Explained Variance: %.2f' % explained_variance_score(y_test, predictions))\n",
    "print('The Mean Absolute Error: %.2f degrees Celcius' % mean_absolute_error(y_test, predictions))\n",
    "print('The Median Absolute Error: %.2f degrees Celcius' % median_absolute_error(y_test, predictions))"
   ]
  },
  {
   "cell_type": "code",
   "execution_count": 32,
   "metadata": {
    "pycharm": {
     "is_executing": false
    }
   },
   "outputs": [],
   "source": []
  }
 ],
 "metadata": {
  "kernelspec": {
   "display_name": "Python 3",
   "language": "python",
   "name": "python3"
  },
  "language_info": {
   "codemirror_mode": {
    "name": "ipython",
    "version": 3
   },
   "file_extension": ".py",
   "mimetype": "text/x-python",
   "name": "python",
   "nbconvert_exporter": "python",
   "pygments_lexer": "ipython3",
   "version": "3.8.1"
  },
  "pycharm": {
   "stem_cell": {
    "cell_type": "raw",
    "source": [],
    "metadata": {
     "collapsed": false
    }
   }
  }
 },
 "nbformat": 4,
 "nbformat_minor": 2
}